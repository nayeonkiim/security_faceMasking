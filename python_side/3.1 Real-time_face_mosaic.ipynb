{
 "cells": [
  {
   "cell_type": "code",
   "execution_count": null,
   "metadata": {
    "scrolled": true,
    "pycharm": {
     "is_executing": true
    }
   },
   "outputs": [],
   "source": [
    "import sys\n",
    "import numpy as np\n",
    "import cv2\n",
    "from main import *\n",
    "\n",
    "\n",
    "face_cascade = cv2.CascadeClassifier('haarcascades/haarcascade_frontalface_default.xml')\n",
    "face_alt_cascade = cv2.CascadeClassifier('haarcascades/haarcascade_frontalface_alt.xml')\n",
    "face_alt2_cascade = cv2.CascadeClassifier('haarcascades/haarcascade_frontalface_alt2.xml')\n",
    "face_alt_tree_cascade = cv2.CascadeClassifier('haarcascades/haarcascade_frontalface_alt_tree.xml')\n",
    "\n",
    "cap = cv2.VideoCapture(1) # DroidCam을 카메라로 사용\n",
    "cap.set(3,1280) # 너비\n",
    "cap.set(4,720) # 높이\n",
    "\n",
    "fourcc = cv2.VideoWriter_fourcc(*'DIVX')\n",
    "out = cv2.VideoWriter('output.avi', fourcc, 30.0, (1280, 720))\n",
    "\n",
    "while(True):\n",
    "    ret, frame = cap.read() \n",
    "    frame = cv2.flip(frame, 1) # 좌우 대칭\n",
    "    gray = cv2.cvtColor(frame, cv2.COLOR_BGR2GRAY)\n",
    "\n",
    "    faces = face_cascade.detectMultiScale(gray,1.05,5)\n",
    "    print(\"Number of faces detected: \" + str(len(faces)))\n",
    "\n",
    "    information = ''\n",
    "    if len(faces):\n",
    "        personIndex = 0\n",
    "        for (x,y,w,h) in faces:\n",
    "            face_img = frame[y:y+h, x:x+w] # 인식된 얼굴 이미지 crop\n",
    "\n",
    "            # 배열을 비압축 파일로 저장\n",
    "            face_img = np.array(face_img)\n",
    "            np.savez(face_img)\n",
    "\n",
    "            # 1안. 모자이크 코드\n",
    "            # face_img = cv2.resize(face_img, dsize=(0, 0), fx=0.04, fy=0.04) # 축소\n",
    "            # face_img = cv2.resize(face_img, (w, h), interpolation=cv2.INTER_AREA) # 확대\n",
    "            # frame[y:y+h, x:x+w] = face_img # 인식된 얼굴 영역 모자이크 처리\n",
    "\n",
    "            # 2안. 픽셀 데이터 삭제\n",
    "            frame[y:y+h, x:x+w] = 0\n",
    "            time_info(x, y, w, h, personIndex, frame)\n",
    "            personIndex += 1\n",
    "\n",
    "\n",
    "    cv2.imshow('result', frame)\n",
    "            \n",
    "    k = cv2.waitKey(30) & 0xff\n",
    "    if k == 27: # Esc 키를 누르면 종료\n",
    "        break\n",
    "\n",
    "\n",
    "cap.release()\n",
    "cv2.destroyAllWindows()"
   ]
  },
  {
   "cell_type": "code",
   "execution_count": null,
   "metadata": {
    "pycharm": {
     "is_executing": true
    }
   },
   "outputs": [],
   "source": []
  }
 ],
 "metadata": {
  "kernelspec": {
   "name": "pycharm-bfb7d21b",
   "language": "python",
   "display_name": "PyCharm (security_faceMasking)"
  },
  "language_info": {
   "codemirror_mode": {
    "name": "ipython",
    "version": 3
   },
   "file_extension": ".py",
   "mimetype": "text/x-python",
   "name": "python",
   "nbconvert_exporter": "python",
   "pygments_lexer": "ipython3",
   "version": "3.8.3"
  }
 },
 "nbformat": 4,
 "nbformat_minor": 2
}